{
 "cells": [
  {
   "cell_type": "code",
   "execution_count": null,
   "metadata": {},
   "outputs": [],
   "source": [
    "import cv2\n",
    "import matplotlib.pyplot as plt\n",
    "# Read image\n",
    "img = cv2.imread('sudoku.png')  # Replace with the path to your image\n",
    "# Convert the color to RGB (OpenCV uses BGR by default)\n",
    "img_rgb = cv2.cvtColor(img, cv2.COLOR_BGR2RGB)\n",
    "# Display image using Matplotlib\n",
    "plt.imshow(img_rgb)\n",
    "plt.axis('off')  # Hide axis\n",
    "plt.show()\n"
   ]
  },
  {
   "cell_type": "code",
   "execution_count": null,
   "metadata": {},
   "outputs": [],
   "source": [
    "resized_img = cv2.resize(img_rgb, (300, 600))\n",
    "rotated_img = cv2.rotate(resized_img, cv2.ROTATE_90_CLOCKWISE)\n",
    "\n",
    "gray_img = cv2.cvtColor(img, cv2.COLOR_BGR2GRAY)\n",
    "blurred_img = cv2.GaussianBlur(img_rgb, (15, 15), 100)\n",
    "\n",
    "plt.imshow(blurred_img)\n",
    "plt.axis('off')\n",
    "plt.show()\n",
    "\n"
   ]
  },
  {
   "cell_type": "code",
   "execution_count": 26,
   "metadata": {},
   "outputs": [],
   "source": [
    "import cv2\n",
    "\n",
    "# Open the default camera (0) or replace with a video file path\n",
    "cap = cv2.VideoCapture(0)  # Change to \"video.mp4\" if using a video file\n",
    "\n",
    "while True:\n",
    "    ret, frame = cap.read()\n",
    "    \n",
    "    if not ret:\n",
    "        print(\"Failed to grab frame\")\n",
    "        break\n",
    "\n",
    "    # Draw a green rectangle\n",
    "    cv2.rectangle(frame, (50, 50), (300, 300), (0, 255, 0), 3)\n",
    "    \n",
    "    # Draw a blue filled circle\n",
    "    cv2.circle(frame, (400, 200), 50, (255, 0, 0), -1)\n",
    "    \n",
    "    # Put text on the frame\n",
    "    cv2.putText(frame, \"OpenCV Demo\", (50, 450), cv2.FONT_HERSHEY_SIMPLEX, 1, (255, 255, 255), 2)\n",
    "\n",
    "    # Display the frame in a window\n",
    "    cv2.imshow('Webcam Video', frame)\n",
    "\n",
    "    # Break the loop on 'q' key press\n",
    "    if cv2.waitKey(1) & 0xFF == ord('q'):\n",
    "        break\n",
    "\n",
    "# Release the video capture object and close all OpenCV windows\n",
    "cap.release()\n",
    "cv2.destroyAllWindows()"
   ]
  }
 ],
 "metadata": {
  "kernelspec": {
   "display_name": "Python 3",
   "language": "python",
   "name": "python3"
  },
  "language_info": {
   "codemirror_mode": {
    "name": "ipython",
    "version": 3
   },
   "file_extension": ".py",
   "mimetype": "text/x-python",
   "name": "python",
   "nbconvert_exporter": "python",
   "pygments_lexer": "ipython3",
   "version": "3.12.6"
  }
 },
 "nbformat": 4,
 "nbformat_minor": 2
}
