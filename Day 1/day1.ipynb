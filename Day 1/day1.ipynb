{
 "cells": [
  {
   "cell_type": "code",
   "execution_count": null,
   "metadata": {},
   "outputs": [],
   "source": []
  },
  {
   "cell_type": "markdown",
   "metadata": {},
   "source": [
    "<!-- Data type -->\n",
    "int\n",
    "str \n",
    "float\n",
    "bool\n",
    "dict\n",
    "set\n",
    "tuple\n",
    "list\n"
   ]
  },
  {
   "cell_type": "code",
   "execution_count": 1,
   "metadata": {},
   "outputs": [
    {
     "name": "stdout",
     "output_type": "stream",
     "text": [
      "<class 'str'>\n"
     ]
    }
   ],
   "source": [
    "# string data type\n",
    "str_var = \"This is text\"\n",
    "\n",
    "print(type(str_var))\n",
    "print(str_var)\n"
   ]
  },
  {
   "cell_type": "code",
   "execution_count": 2,
   "metadata": {},
   "outputs": [
    {
     "name": "stdout",
     "output_type": "stream",
     "text": [
      "<class 'int'>\n",
      "12\n"
     ]
    }
   ],
   "source": [
    "# string data type\n",
    "str_var = \"This is text\"\n",
    "\n",
    "print(type(str_var))\n",
    "print(str_var)"
   ]
  },
  {
   "cell_type": "code",
   "execution_count": 3,
   "metadata": {},
   "outputs": [
    {
     "name": "stdout",
     "output_type": "stream",
     "text": [
      "<class 'list'>\n",
      "[12, 'text', True, [12, 2, 3], 12.4]\n"
     ]
    }
   ],
   "source": [
    "# list data type\n",
    "list_var = [12 , \"text\" , True , [ 12,2 ,3] , 12.4]\n",
    "\n",
    "print(type(list_var))\n",
    "print(list_var)"
   ]
  },
  {
   "cell_type": "code",
   "execution_count": 4,
   "metadata": {},
   "outputs": [
    {
     "name": "stdout",
     "output_type": "stream",
     "text": [
      "<class 'dict'>\n",
      "{'one': 1, 'two ': 2, 'skills': ['python', 'html']}\n"
     ]
    }
   ],
   "source": [
    "# dict data type\n",
    "\n",
    "dict_var = {\n",
    "    \"one\" : 1,\n",
    "    \"two \" : 2,\n",
    "    \"skills\" : [\"python\", \"html\"]\n",
    "}\n",
    "\n",
    "print(type(dict_var))\n",
    "print(dict_var)"
   ]
  },
  {
   "cell_type": "code",
   "execution_count": 6,
   "metadata": {},
   "outputs": [
    {
     "name": "stdout",
     "output_type": "stream",
     "text": [
      "<class 'bool'>\n",
      "False\n"
     ]
    }
   ],
   "source": [
    "# bool data type\n",
    "bool_var = 50 > 60\n",
    "print(type(bool_var))\n",
    "print(bool_var)\n"
   ]
  },
  {
   "cell_type": "code",
   "execution_count": 7,
   "metadata": {},
   "outputs": [
    {
     "name": "stdout",
     "output_type": "stream",
     "text": [
      "<class 'tuple'>\n",
      "(12, 24, 5)\n"
     ]
    }
   ],
   "source": [
    "# tuple data type \n",
    "tuple_var = (12,24,5)\n",
    "print(type(tuple_var))\n",
    "print(tuple_var)\n"
   ]
  },
  {
   "cell_type": "code",
   "execution_count": 13,
   "metadata": {},
   "outputs": [
    {
     "name": "stdout",
     "output_type": "stream",
     "text": [
      "<class 'set'>\n",
      "{'banana', 12, 'apple'}\n"
     ]
    }
   ],
   "source": [
    "# set data type\n",
    "set_var = { \"apple\" , \"banana\" ,12}\n",
    "print(type(set_var))\n",
    "print(set_var)"
   ]
  },
  {
   "cell_type": "code",
   "execution_count": 14,
   "metadata": {},
   "outputs": [
    {
     "name": "stdout",
     "output_type": "stream",
     "text": [
      "<class 'float'>\n",
      "12.5\n"
     ]
    }
   ],
   "source": [
    "# float data type\n",
    "float_Var = 12.5\n",
    "print(type(float_Var))\n",
    "print(float_Var)\n"
   ]
  },
  {
   "cell_type": "code",
   "execution_count": null,
   "metadata": {},
   "outputs": [],
   "source": [
    "# Convert data type"
   ]
  },
  {
   "cell_type": "code",
   "execution_count": 16,
   "metadata": {},
   "outputs": [
    {
     "name": "stdout",
     "output_type": "stream",
     "text": [
      "<class 'int'>\n",
      "223\n"
     ]
    }
   ],
   "source": [
    "# convert string to  int\n",
    "x  = \"223\"\n",
    "y = int(x)\n",
    "print(type(y))\n",
    "print(y)"
   ]
  },
  {
   "cell_type": "code",
   "execution_count": 22,
   "metadata": {},
   "outputs": [
    {
     "name": "stdout",
     "output_type": "stream",
     "text": [
      "<class 'dict'>\n",
      "{'one': 1, 'two': 2, 'three': 3}\n"
     ]
    }
   ],
   "source": [
    "# convert list to dict\n",
    "x = [[\"one\", 1] , [\"two\" , 2] , [\"three\" , 3 ] ]\n",
    "\n",
    "y = dict(x)\n",
    "print(type(y))\n",
    "print(y)"
   ]
  },
  {
   "cell_type": "code",
   "execution_count": 23,
   "metadata": {},
   "outputs": [
    {
     "name": "stdout",
     "output_type": "stream",
     "text": [
      "<class 'str'>\n",
      "12\n"
     ]
    }
   ],
   "source": [
    "# int to str\n",
    "\n",
    "x =12 \n",
    "y = str(x)\n",
    "print(type(y))\n",
    "print(y)"
   ]
  },
  {
   "cell_type": "code",
   "execution_count": 25,
   "metadata": {},
   "outputs": [
    {
     "name": "stdout",
     "output_type": "stream",
     "text": [
      "0\n",
      "<class 'int'>\n"
     ]
    }
   ],
   "source": [
    "# bool >> int\n",
    "x = False\n",
    "y = int(x)\n",
    "\n",
    "print(y)\n",
    "print(type(y))"
   ]
  },
  {
   "cell_type": "code",
   "execution_count": 30,
   "metadata": {},
   "outputs": [
    {
     "name": "stdout",
     "output_type": "stream",
     "text": [
      "True\n",
      "<class 'bool'>\n"
     ]
    }
   ],
   "source": [
    "# int ==> bool\n",
    "x = -123\n",
    "y = bool(x)\n",
    "\n",
    "print(y)\n",
    "print(type(y))"
   ]
  },
  {
   "cell_type": "code",
   "execution_count": 56,
   "metadata": {},
   "outputs": [
    {
     "name": "stdout",
     "output_type": "stream",
     "text": [
      "text text text \n",
      "THIS IS TEXT TEXT TEXT \n",
      "this is text text text \n",
      "['this', 'is', 'text', 'text', 'text']\n",
      "thare are text text text \n",
      "3\n",
      "This is text text text \n",
      "this-is-text\n",
      "this is text\n"
     ]
    }
   ],
   "source": [
    "# string methods\n",
    "\n",
    "txt = \"this is text text text \"\n",
    "print(txt[8 : ])\n",
    "print(txt.upper())\n",
    "print(txt.lower())\n",
    "\n",
    "print(txt.split())\n",
    "print(txt.replace(\"is\" ,\"are\"))\n",
    "\n",
    "print(txt.count(\"x\"))\n",
    "print(txt.capitalize())\n",
    "\n",
    "\n",
    "# list  ==> str\n",
    "l = [\"this\" , \"is\" , \"text\"]\n",
    "\n",
    "print(\"-\".join(l))\n",
    "\n",
    "txt = \"      this is text       \"\n",
    "\n",
    "print(txt.strip())\n",
    "\n"
   ]
  },
  {
   "cell_type": "code",
   "execution_count": 61,
   "metadata": {},
   "outputs": [
    {
     "name": "stdout",
     "output_type": "stream",
     "text": [
      "False\n"
     ]
    }
   ],
   "source": [
    "# methods return ture false- isdigit -islower - isupper\n",
    "x = \"This is text\"\n",
    "\n",
    "print(x.islower())\n"
   ]
  },
  {
   "cell_type": "code",
   "execution_count": 67,
   "metadata": {},
   "outputs": [
    {
     "name": "stdout",
     "output_type": "stream",
     "text": [
      "this is\n",
      "  \"ahmed\" \n"
     ]
    }
   ],
   "source": [
    "#  three double quotes\n",
    "x = \"\"\"\"this line one\n",
    "this line two\n",
    "this line three  \"\"\"\n",
    "\n",
    "y = \"this is \\n  \\\"ahmed\\\" \"\n",
    "\n",
    "print(y)"
   ]
  },
  {
   "cell_type": "code",
   "execution_count": 69,
   "metadata": {},
   "outputs": [
    {
     "name": "stdout",
     "output_type": "stream",
     "text": [
      "name Ahmed, age 21\n"
     ]
    }
   ],
   "source": [
    "# String Format\n",
    "x =  \"Ahmed\"\n",
    "y = 21\n",
    "\n",
    "print(f\"name {x}, age {y}\")\n"
   ]
  },
  {
   "cell_type": "code",
   "execution_count": 91,
   "metadata": {},
   "outputs": [
    {
     "name": "stdout",
     "output_type": "stream",
     "text": [
      "this element p\n",
      "this element r\n",
      "this element o\n",
      "this element g\n",
      "this element r\n",
      "this element a\n",
      "this element m\n",
      "this element m\n",
      "this element i\n",
      "this element n\n",
      "this element g\n",
      "this element  \n",
      "this element i\n",
      "this element n\n",
      "this element  \n",
      "this element p\n",
      "this element y\n",
      "this element t\n",
      "this element h\n",
      "this element o\n",
      "this element n\n",
      "this element  \n",
      "this element i\n",
      "this element s\n",
      "this element  \n",
      "this element f\n",
      "this element u\n",
      "this element n\n"
     ]
    }
   ],
   "source": [
    "# list methods\n",
    "list_var  = \"programming in python is fun\"\n",
    "\n",
    "\n",
    "for element in list_var :\n",
    "    print(f'this element {element}')\n",
    "\n",
    "# print(num_list)\n",
    "# element=  \"1\"\n",
    "\n",
    "\n"
   ]
  },
  {
   "cell_type": "code",
   "execution_count": null,
   "metadata": {},
   "outputs": [],
   "source": [
    "# Task\n",
    "text = \"programming in python is fun\"\n",
    "\n",
    "c = {\"p\" : 2 , \"r\": 2 , }"
   ]
  }
 ],
 "metadata": {
  "kernelspec": {
   "display_name": "Python 3",
   "language": "python",
   "name": "python3"
  },
  "language_info": {
   "codemirror_mode": {
    "name": "ipython",
    "version": 3
   },
   "file_extension": ".py",
   "mimetype": "text/x-python",
   "name": "python",
   "nbconvert_exporter": "python",
   "pygments_lexer": "ipython3",
   "version": "3.12.6"
  }
 },
 "nbformat": 4,
 "nbformat_minor": 2
}
